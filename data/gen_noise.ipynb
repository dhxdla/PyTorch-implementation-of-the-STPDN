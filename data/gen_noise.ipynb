{
 "cells": [
  {
   "cell_type": "code",
   "execution_count": 2,
   "metadata": {},
   "outputs": [
    {
     "name": "stderr",
     "output_type": "stream",
     "text": [
      "/data1/zxd22/anaconda3/envs/stpan/lib/python3.7/site-packages/tqdm/auto.py:22: TqdmWarning: IProgress not found. Please update jupyter and ipywidgets. See https://ipywidgets.readthedocs.io/en/stable/user_install.html\n",
      "  from .autonotebook import tqdm as notebook_tqdm\n"
     ]
    }
   ],
   "source": [
    "import torch\n",
    "import numpy as np\n",
    "import pandas as pd\n",
    "import argparse\n",
    "import numpy as np\n",
    "import pandas as pd\n",
    "import h5py\n",
    "import yaml\n",
    "import pickle\n",
    "import scipy.sparse as sp\n",
    "\n",
    "import matplotlib.pyplot as plt\n",
    "from sklearn.manifold import TSNE\n",
    "from sklearn.cluster import DBSCAN\n"
   ]
  },
  {
   "cell_type": "code",
   "execution_count": 3,
   "metadata": {},
   "outputs": [
    {
     "name": "stdout",
     "output_type": "stream",
     "text": [
      "(16992, 307)\n"
     ]
    }
   ],
   "source": [
    "data4 = np.load('./PEMS04/PEMS04.npz')['data'][...,0]\n",
    "\n",
    "\n",
    "print(data4.shape)\n"
   ]
  },
  {
   "cell_type": "code",
   "execution_count": 5,
   "metadata": {},
   "outputs": [],
   "source": [
    "graph = pd.read_csv('./PEMS04/PEMS04.csv')\n",
    "node = 358\n",
    "adj4 = np.zeros((node,node), dtype=float)\n",
    "for _, row in graph.iterrows():\n",
    "    from_ = int(row['from'])\n",
    "    to_ = int(row['to'])\n",
    "    # value = row['cost']\n",
    "    \n",
    "    adj4[from_][to_] = 1\n",
    "    adj4[to_][from_] = 1\n",
    "\n"
   ]
  },
  {
   "cell_type": "code",
   "execution_count": 6,
   "metadata": {},
   "outputs": [],
   "source": [
    "np.random.seed(2024)\n",
    "ratio = 0.1\n",
    "length, node = data4.shape\n",
    "flu = []\n",
    "\n",
    "node = np.random.choice(node,int(node*ratio))\n",
    "node_all = node\n",
    "for i in node:\n",
    "    flu.append([np.random.choice(np.arange(12,length-12),int(ratio*length)),i])\n"
   ]
  },
  {
   "cell_type": "code",
   "execution_count": 7,
   "metadata": {},
   "outputs": [
    {
     "name": "stdout",
     "output_type": "stream",
     "text": [
      "[136  96 128  27  36 183 297 127 227  74 158 247 202 110  11 284  91  39\n",
      "  54 114 183 218 244  42 287  97 150 283 119  69]\n"
     ]
    }
   ],
   "source": [
    "print(node)"
   ]
  },
  {
   "cell_type": "code",
   "execution_count": 8,
   "metadata": {},
   "outputs": [
    {
     "name": "stdout",
     "output_type": "stream",
     "text": [
      "[[1.05, 1.1, 1.15, 1.2, 1.25, 1.2, 1.15, 1.1, 1.05, 1], [0.95, 0.9, 0.85, 0.8, 0.75, 0.8, 0.85, 0.9, 0.95, 1], [1.5, 1.4, 1.3, 1.2, 1.1, 1], [0.75, 0.8, 0.85, 0.9, 0.95, 1]]\n"
     ]
    }
   ],
   "source": [
    "kernel1 = [1.05, 1.1, 1.15, 1.2, 1.25, 1.2, 1.15, 1.1, 1.05, 1]\n",
    "kernel2 = [0.95, 0.9, 0.85, 0.8, 0.75, 0.8, 0.85, 0.9, 0.95, 1]\n",
    "\n",
    "kernel3 = [1.5, 1.4, 1.3, 1.2, 1.1,1]\n",
    "\n",
    "kernel4 = [0.75, 0.8, 0.85, 0.9, 0.95, 1]\n",
    "kernel = [kernel1,kernel2,kernel3,kernel4]\n",
    "print(kernel)"
   ]
  },
  {
   "cell_type": "code",
   "execution_count": 9,
   "metadata": {},
   "outputs": [],
   "source": [
    "np.random.seed(2024)\n",
    "ratio = 0.3\n",
    "length, node = data4.shape\n",
    "flu = []\n",
    "\n",
    "node = np.random.choice(node,int(node*ratio))\n",
    "node_all = node\n",
    "for i in node:\n",
    "    flu.append([np.random.choice(np.arange(12,length-12),int(ratio*length)),i])\n",
    "\n",
    "Data4 = data4\n",
    "for sdaf,i in enumerate(flu):\n",
    "   \n",
    "    node = i[1]\n",
    "    for idx in i[0]:\n",
    "        kd = np.random.randint(0,4,1)[0]\n",
    "        ke = kernel[kd]\n",
    "\n",
    "        new = Data4[idx:idx+len(ke), node]*ke\n",
    "        diffusion = (new - Data4[idx:idx+len(ke), node])*0.2\n",
    "        Data4[idx:idx+len(ke), node] = new\n",
    "\n",
    "\n",
    "        for adj_node,adj in enumerate(adj4[node]):\n",
    "            if adj==1:\n",
    "\n",
    "                Data4[idx+1:idx+len(ke)+1, adj_node] = Data4[idx+1:idx+len(ke)+1, adj_node] + diffusion"
   ]
  },
  {
   "cell_type": "code",
   "execution_count": 10,
   "metadata": {},
   "outputs": [
    {
     "name": "stdout",
     "output_type": "stream",
     "text": [
      "216.99596164014827\n"
     ]
    }
   ],
   "source": [
    "print(data4.mean())\n",
    "np.save('./noise1/PEMS04', Data4)"
   ]
  }
 ],
 "metadata": {
  "kernelspec": {
   "display_name": "stpan",
   "language": "python",
   "name": "python3"
  },
  "language_info": {
   "codemirror_mode": {
    "name": "ipython",
    "version": 3
   },
   "file_extension": ".py",
   "mimetype": "text/x-python",
   "name": "python",
   "nbconvert_exporter": "python",
   "pygments_lexer": "ipython3",
   "version": "3.7.16"
  }
 },
 "nbformat": 4,
 "nbformat_minor": 2
}
